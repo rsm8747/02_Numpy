{
 "cells": [
  {
   "cell_type": "markdown",
   "id": "57362fc9",
   "metadata": {
    "id": "57362fc9"
   },
   "source": [
    "1.What is Numpy?\n",
    "- Ans: NumPy is a general-purpose array-processing package. It provides a high-performance multidimensional array object, and tools for working with these arrays. It is the fundamental package for scientific computing with Python. … A powerful N-dimensional array object. Sophisticated (broadcasting) functions."
   ]
  },
  {
   "cell_type": "markdown",
   "id": "41961e1f",
   "metadata": {
    "id": "41961e1f"
   },
   "source": [
    "2. Why NumPy is used in Python?\n",
    "- Ans: NumPy is a package in Python used for Scientific Computing. NumPy package is used to perform different operations. The ndarray (NumPy Array) is a multidimensional array used to store values of same datatype. These arrays are indexed just like Sequences, starts with zero."
   ]
  },
  {
   "cell_type": "markdown",
   "id": "4ce9e90c",
   "metadata": {
    "id": "4ce9e90c"
   },
   "source": [
    "3. How to Install Numpy in Windows? \n",
    "\n",
    "- Ans: \n",
    "Step 1: Download Python for Windows 10/8/7. First, download the Python executable binaries on your Windows system from the official download the page of the Python. …\n",
    "Step 2: Run the Python executable installer. …\n",
    "Step 3: Install pip on Windows 10/8/7. …\n",
    "Step 4: Install Numpy in Python using pip on Windows 10/8/7.\n",
    " \n",
    "- Installation Process of Numpy..\n",
    "step1: Open the terminal\n",
    "step2: type pip install numpy"
   ]
  },
  {
   "cell_type": "code",
   "execution_count": 1,
   "id": "ebb8cdf4",
   "metadata": {
    "id": "ebb8cdf4"
   },
   "outputs": [],
   "source": [
    "import numpy as np"
   ]
  },
  {
   "cell_type": "markdown",
   "id": "94292dcd",
   "metadata": {
    "id": "94292dcd"
   },
   "source": [
    "4. how to create 1D Array ?"
   ]
  },
  {
   "cell_type": "code",
   "execution_count": 2,
   "id": "7882aa02",
   "metadata": {
    "id": "7882aa02"
   },
   "outputs": [
    {
     "name": "stdout",
     "output_type": "stream",
     "text": [
      "1d array :  [1 2 3]\n"
     ]
    }
   ],
   "source": [
    "num=[1,2,3]\n",
    "num = np.array(num)\n",
    "print(\"1d array : \",num)"
   ]
  },
  {
   "cell_type": "markdown",
   "id": "6355a9f3",
   "metadata": {
    "id": "6355a9f3"
   },
   "source": [
    "5. How to create 2D Array ?"
   ]
  },
  {
   "cell_type": "code",
   "execution_count": 3,
   "id": "db3574c6",
   "metadata": {
    "id": "db3574c6"
   },
   "outputs": [
    {
     "name": "stdout",
     "output_type": "stream",
     "text": [
      "\n",
      "2d array : \n",
      " [[1 2 3]\n",
      " [4 5 6]]\n"
     ]
    }
   ],
   "source": [
    "num2=[[1,2,3],[4,5,6]]\n",
    "num2 = np.array(num2)\n",
    "print(\"\\n2d array : \\n\",num2)"
   ]
  },
  {
   "cell_type": "markdown",
   "id": "b2ac753a",
   "metadata": {
    "id": "b2ac753a"
   },
   "source": [
    "6. how to create 3D Array or ND Array ?"
   ]
  },
  {
   "cell_type": "code",
   "execution_count": 4,
   "id": "7e185972",
   "metadata": {
    "id": "7e185972"
   },
   "outputs": [
    {
     "name": "stdout",
     "output_type": "stream",
     "text": [
      "\n",
      "3d array : \n",
      " [[[1 2 3]\n",
      "  [4 5 6]\n",
      "  [7 8 9]]]\n"
     ]
    }
   ],
   "source": [
    "num3=[[[1,2,3],[4,5,6],[7,8,9]]]\n",
    "num3 = np.array(num3)\n",
    "print(\"\\n3d array : \\n\",num3)"
   ]
  },
  {
   "cell_type": "markdown",
   "id": "75f56c20",
   "metadata": {
    "id": "75f56c20"
   },
   "source": [
    "7. how to identified datatyp for numpy array?"
   ]
  },
  {
   "cell_type": "code",
   "execution_count": 5,
   "id": "93ac138e",
   "metadata": {
    "id": "93ac138e"
   },
   "outputs": [
    {
     "name": "stdout",
     "output_type": "stream",
     "text": [
      "\n",
      " data type num 3  int32\n"
     ]
    }
   ],
   "source": [
    "print(\"\\n data type num 3 \", num3.dtype)"
   ]
  },
  {
   "cell_type": "markdown",
   "id": "a14eafdd",
   "metadata": {
    "id": "a14eafdd"
   },
   "source": [
    "8. Print 1D array with 5 zeros."
   ]
  },
  {
   "cell_type": "code",
   "execution_count": 6,
   "id": "8f0226e0",
   "metadata": {
    "id": "8f0226e0"
   },
   "outputs": [
    {
     "name": "stdout",
     "output_type": "stream",
     "text": [
      "single array: [0. 0. 0. 0. 0.]\n"
     ]
    }
   ],
   "source": [
    "arr = np.zeros(5)\n",
    "print(\"single array:\",arr)"
   ]
  },
  {
   "cell_type": "markdown",
   "id": "0d52650a",
   "metadata": {
    "id": "0d52650a"
   },
   "source": [
    "9. print zeros with 2 rows and 3 columns ?"
   ]
  },
  {
   "cell_type": "code",
   "execution_count": 7,
   "id": "c427b336",
   "metadata": {
    "id": "c427b336"
   },
   "outputs": [
    {
     "name": "stdout",
     "output_type": "stream",
     "text": [
      "Array with 2 rows and 3 cols : \n",
      " [[0. 0. 0.]\n",
      " [0. 0. 0.]]\n"
     ]
    }
   ],
   "source": [
    "arr2 = np.zeros((2,3))\n",
    "print(\"Array with 2 rows and 3 cols : \\n\", arr2)"
   ]
  },
  {
   "cell_type": "markdown",
   "id": "0795fb8e",
   "metadata": {
    "id": "0795fb8e"
   },
   "source": [
    "10. Create array with eye() - diagonal values ?\n"
   ]
  },
  {
   "cell_type": "code",
   "execution_count": 8,
   "id": "2a705a85",
   "metadata": {
    "id": "2a705a85"
   },
   "outputs": [
    {
     "name": "stdout",
     "output_type": "stream",
     "text": [
      "diaglonal values : \n",
      " [[1. 0. 0. 0.]\n",
      " [0. 1. 0. 0.]\n",
      " [0. 0. 1. 0.]\n",
      " [0. 0. 0. 1.]]\n"
     ]
    }
   ],
   "source": [
    "arr3 = np.eye(4)\n",
    "print(\"diaglonal values : \\n\", arr3)"
   ]
  },
  {
   "cell_type": "markdown",
   "id": "aa996e96",
   "metadata": {
    "id": "aa996e96"
   },
   "source": [
    "11. use of diag() square matrix ?"
   ]
  },
  {
   "cell_type": "code",
   "execution_count": 9,
   "id": "25a87c29",
   "metadata": {
    "id": "25a87c29"
   },
   "outputs": [
    {
     "name": "stdout",
     "output_type": "stream",
     "text": [
      "square matrix \n",
      " [[1 0 0 0]\n",
      " [0 2 0 0]\n",
      " [0 0 3 0]\n",
      " [0 0 0 4]]\n"
     ]
    }
   ],
   "source": [
    "arr3 = np.diag([1,2,3,4])\n",
    "print(\"square matrix \\n\",arr3)"
   ]
  },
  {
   "cell_type": "markdown",
   "id": "0ade5ae0",
   "metadata": {
    "id": "0ade5ae0"
   },
   "source": [
    "12. Print Range Between 1 To 15 and show 4 integers random numbers"
   ]
  },
  {
   "cell_type": "code",
   "execution_count": 10,
   "id": "c8a8b1e7",
   "metadata": {
    "id": "c8a8b1e7"
   },
   "outputs": [
    {
     "name": "stdout",
     "output_type": "stream",
     "text": [
      "\n",
      " random number from 1 to 15  [5 5 1 4]\n"
     ]
    }
   ],
   "source": [
    "rand_arr = np.random.randint(1,15,4)\n",
    "print(\"\\n random number from 1 to 15 \", rand_arr)"
   ]
  },
  {
   "cell_type": "markdown",
   "id": "a6381268",
   "metadata": {
    "id": "a6381268"
   },
   "source": [
    "13. describe the example of seed() function? and how to use it ? why seed()?"
   ]
  },
  {
   "cell_type": "markdown",
   "id": "61be8246",
   "metadata": {
    "id": "61be8246"
   },
   "source": [
    "seed() is used in the process of generating the same sequences of random numbers on a constant basis and use the same number at each time when called"
   ]
  },
  {
   "cell_type": "code",
   "execution_count": 11,
   "id": "7ca444b0",
   "metadata": {
    "id": "7ca444b0"
   },
   "outputs": [
    {
     "name": "stdout",
     "output_type": "stream",
     "text": [
      "seed() showing same number only :  [67 93 99 18 84 58 87 98 97 48 74 33 47 97 26 84 79 37 97 81]\n"
     ]
    }
   ],
   "source": [
    "# How many ever times we execute the above code, it will get us the same numbers that are picked randomly for the first time\n",
    "np.random.seed(123)\n",
    "rand_arr4 = np.random.randint(1,100,20)\n",
    "print(\"seed() showing same number only : \", rand_arr4)"
   ]
  },
  {
   "cell_type": "markdown",
   "id": "08efa6e6",
   "metadata": {
    "id": "08efa6e6"
   },
   "source": [
    "14. Print first position, last position and 2nd and 3rd position"
   ]
  },
  {
   "cell_type": "code",
   "execution_count": 12,
   "id": "be00399a",
   "metadata": {
    "id": "be00399a"
   },
   "outputs": [
    {
     "name": "stdout",
     "output_type": "stream",
     "text": [
      "first position :  5\n",
      "third position :  25\n"
     ]
    }
   ],
   "source": [
    "num = np.array([5,15,25,35])\n",
    "print(\"first position : \",num[0]) #5\n",
    "print(\"third position : \",num[2]) #25"
   ]
  },
  {
   "cell_type": "markdown",
   "id": "4b66410e",
   "metadata": {
    "id": "4b66410e"
   },
   "source": [
    "15.  if we don’t know last number of position how to show it by pragmatically?"
   ]
  },
  {
   "cell_type": "code",
   "execution_count": 13,
   "id": "95783439",
   "metadata": {
    "id": "95783439"
   },
   "outputs": [
    {
     "name": "stdout",
     "output_type": "stream",
     "text": [
      "last indexing done by -1 position :  35\n"
     ]
    }
   ],
   "source": [
    "num = np.array([5,15,25,35])\n",
    "print(\"last indexing done by -1 position : \",num[-1])"
   ]
  },
  {
   "cell_type": "markdown",
   "id": "4d4b6775",
   "metadata": {
    "id": "4d4b6775"
   },
   "source": [
    "16. create a matrix 3 * 3 with value ranging from 0 to 8"
   ]
  },
  {
   "cell_type": "code",
   "execution_count": 14,
   "id": "93d2aab3",
   "metadata": {
    "id": "93d2aab3"
   },
   "outputs": [
    {
     "name": "stdout",
     "output_type": "stream",
     "text": [
      "[[0 1 2]\n",
      " [3 4 5]\n",
      " [6 7 8]]\n"
     ]
    }
   ],
   "source": [
    "arr = np.arange(0,9).reshape(3,3)\n",
    "print(arr)\n"
   ]
  },
  {
   "cell_type": "markdown",
   "id": "d1d8e2ba",
   "metadata": {
    "id": "d1d8e2ba"
   },
   "source": [
    "17. create matrix 2 * 2 with value ranging from 1 to 3"
   ]
  },
  {
   "cell_type": "code",
   "execution_count": 15,
   "id": "84e62cf5",
   "metadata": {
    "id": "84e62cf5"
   },
   "outputs": [
    {
     "name": "stdout",
     "output_type": "stream",
     "text": [
      "[[0 1]\n",
      " [2 3]]\n"
     ]
    }
   ],
   "source": [
    "arr = np.arange(0,4).reshape(2,2)\n",
    "print(arr)"
   ]
  },
  {
   "cell_type": "markdown",
   "id": "1e9dc294",
   "metadata": {
    "id": "1e9dc294"
   },
   "source": [
    "18.create matrix 2 * 2 with value ranging from 1 to 4"
   ]
  },
  {
   "cell_type": "code",
   "execution_count": 16,
   "id": "24a31f27",
   "metadata": {
    "id": "24a31f27"
   },
   "outputs": [
    {
     "name": "stdout",
     "output_type": "stream",
     "text": [
      "[[1 2]\n",
      " [3 4]]\n"
     ]
    }
   ],
   "source": [
    "arr = np.arange(1,5).reshape(2,2)\n",
    "print(arr)"
   ]
  },
  {
   "cell_type": "markdown",
   "id": "827d38e7",
   "metadata": {
    "id": "827d38e7"
   },
   "source": [
    "19. print random number from 0 to 1"
   ]
  },
  {
   "cell_type": "code",
   "execution_count": 17,
   "id": "b381d473",
   "metadata": {
    "id": "b381d473"
   },
   "outputs": [
    {
     "name": "stdout",
     "output_type": "stream",
     "text": [
      "random number from 0 to 1  0.7379954057320357\n"
     ]
    }
   ],
   "source": [
    "a = np.random.rand()\n",
    "print(\"random number from 0 to 1 \", a)"
   ]
  },
  {
   "cell_type": "markdown",
   "id": "01167322",
   "metadata": {
    "id": "01167322"
   },
   "source": [
    "20.  print size of num array"
   ]
  },
  {
   "cell_type": "code",
   "execution_count": 18,
   "id": "5a7d14cf",
   "metadata": {
    "id": "5a7d14cf"
   },
   "outputs": [
    {
     "name": "stdout",
     "output_type": "stream",
     "text": [
      "\n",
      " size \n",
      " 4\n"
     ]
    }
   ],
   "source": [
    "num = np.array([5,15,25,35])\n",
    "print(\"\\n size \\n\",num.size) #100"
   ]
  },
  {
   "cell_type": "markdown",
   "id": "50d2137a",
   "metadata": {
    "id": "50d2137a"
   },
   "source": [
    "21. create an array of 20 linearly spaced point between 0 to 1\n"
   ]
  },
  {
   "cell_type": "code",
   "execution_count": 19,
   "id": "02eaf8ec",
   "metadata": {
    "id": "02eaf8ec"
   },
   "outputs": [
    {
     "name": "stdout",
     "output_type": "stream",
     "text": [
      "[0.         0.05263158 0.10526316 0.15789474 0.21052632 0.26315789\n",
      " 0.31578947 0.36842105 0.42105263 0.47368421 0.52631579 0.57894737\n",
      " 0.63157895 0.68421053 0.73684211 0.78947368 0.84210526 0.89473684\n",
      " 0.94736842 1.        ]\n"
     ]
    }
   ],
   "source": [
    "num_line = np.linspace(0,1,20)\n",
    "print(num_line)"
   ]
  },
  {
   "cell_type": "markdown",
   "id": "eed7fd29",
   "metadata": {
    "id": "eed7fd29"
   },
   "source": [
    "22. Use of sort() function ?"
   ]
  },
  {
   "cell_type": "code",
   "execution_count": 20,
   "id": "79f70bff",
   "metadata": {
    "id": "79f70bff"
   },
   "outputs": [
    {
     "name": "stdout",
     "output_type": "stream",
     "text": [
      "sorting of numpy array : \n",
      " [[2 5 6]\n",
      " [1 8 9]]\n"
     ]
    }
   ],
   "source": [
    "num_arr = np.array([[5,6,2],[9,8,1]])\n",
    "print(\"sorting of numpy array : \\n\",np.sort(num_arr))"
   ]
  },
  {
   "cell_type": "markdown",
   "id": "727dd10e",
   "metadata": {
    "id": "727dd10e"
   },
   "source": [
    "23. How to get the positions where elements of two arrays match?"
   ]
  },
  {
   "cell_type": "code",
   "execution_count": 21,
   "id": "4a6ccf06",
   "metadata": {
    "id": "4a6ccf06"
   },
   "outputs": [
    {
     "data": {
      "text/plain": [
       "(array([1, 3, 5, 7], dtype=int64),)"
      ]
     },
     "execution_count": 21,
     "metadata": {},
     "output_type": "execute_result"
    }
   ],
   "source": [
    "a = np.array([1,2,3,2,3,4,3,4,5,6])\n",
    "b = np.array([7,2,10,2,7,4,9,4,9,8])\n",
    "\n",
    "np.where(a == b)"
   ]
  },
  {
   "cell_type": "markdown",
   "id": "1db1fddd",
   "metadata": {
    "id": "1db1fddd"
   },
   "source": [
    "24. Create a Numpy array filled with all zeros "
   ]
  },
  {
   "cell_type": "code",
   "execution_count": 22,
   "id": "7f123075",
   "metadata": {
    "id": "7f123075"
   },
   "outputs": [
    {
     "name": "stdout",
     "output_type": "stream",
     "text": [
      "Matrix a : \n",
      " [0 0 0]\n",
      "\n",
      "Matrix b : \n",
      " [[0 0 0]\n",
      " [0 0 0]\n",
      " [0 0 0]]\n"
     ]
    }
   ],
   "source": [
    "a = np.zeros(3, dtype = int) \n",
    "print(\"Matrix a : \\n\", a) \n",
    "  \n",
    "b = np.zeros([3, 3], dtype = int) \n",
    "print(\"\\nMatrix b : \\n\", b) "
   ]
  },
  {
   "cell_type": "markdown",
   "id": "8b5fd55b",
   "metadata": {
    "id": "8b5fd55b"
   },
   "source": [
    "25. Check whether a Numpy array contains a specified row"
   ]
  },
  {
   "cell_type": "code",
   "execution_count": 23,
   "id": "a8d227e4",
   "metadata": {
    "id": "a8d227e4"
   },
   "outputs": [
    {
     "data": {
      "text/plain": [
       "array([[ 1,  2,  3,  4,  5],\n",
       "       [ 6,  7,  8,  9, 10],\n",
       "       [11, 12, 13, 14, 15],\n",
       "       [16, 17, 18, 19, 20]])"
      ]
     },
     "execution_count": 23,
     "metadata": {},
     "output_type": "execute_result"
    }
   ],
   "source": [
    "arr = np.array([[1, 2, 3, 4, 5],\n",
    "                [6, 7, 8, 9, 10],\n",
    "                [11, 12, 13, 14, 15],\n",
    "                [16, 17, 18, 19, 20]])\n",
    "\n",
    "# view the array\n",
    "arr"
   ]
  },
  {
   "cell_type": "code",
   "execution_count": 24,
   "id": "44fe01f7",
   "metadata": {
    "id": "44fe01f7"
   },
   "outputs": [
    {
     "data": {
      "text/plain": [
       "[[1, 2, 3, 4, 5], [6, 7, 8, 9, 10], [11, 12, 13, 14, 15], [16, 17, 18, 19, 20]]"
      ]
     },
     "execution_count": 24,
     "metadata": {},
     "output_type": "execute_result"
    }
   ],
   "source": [
    "## tolist(): used to convert the data elements of an array into a list. \n",
    "arr.tolist()"
   ]
  },
  {
   "cell_type": "code",
   "execution_count": 25,
   "id": "dc08e4af",
   "metadata": {
    "id": "dc08e4af"
   },
   "outputs": [
    {
     "name": "stdout",
     "output_type": "stream",
     "text": [
      "True\n",
      "False\n",
      "False\n",
      "True\n"
     ]
    }
   ],
   "source": [
    "## checking whether the given list is present in the above array.\n",
    "print([1, 2, 3, 4, 5] in arr.tolist())\n",
    "print([16, 17, 20, 19, 18] in arr.tolist())\n",
    "print([3, 2, 5, -4, 5] in arr.tolist())\n",
    "print([11, 12, 13, 14, 15] in arr.tolist())"
   ]
  },
  {
   "cell_type": "markdown",
   "id": "681c34c2",
   "metadata": {
    "id": "681c34c2"
   },
   "source": [
    "26. Find the number of occurrences of a sequence in a NumPy array"
   ]
  },
  {
   "cell_type": "code",
   "execution_count": 26,
   "id": "4d033d28",
   "metadata": {
    "id": "4d033d28"
   },
   "outputs": [
    {
     "name": "stdout",
     "output_type": "stream",
     "text": [
      "0\n"
     ]
    }
   ],
   "source": [
    "rr = np.array([[2, 8, 9, 4], \n",
    "                   [9, 4, 9, 4],\n",
    "                   [4, 5, 9, 7],\n",
    "                   [2, 9, 4, 3]])\n",
    "  \n",
    "\n",
    "output = repr(arr).count(\"9, 4\")\n",
    "\n",
    "print(output)"
   ]
  },
  {
   "cell_type": "markdown",
   "id": "mmUZf4TRpXME",
   "metadata": {
    "id": "mmUZf4TRpXME"
   },
   "source": [
    "27.Write a NumPy program to test element-wise for NaN of a given array.\n",
    "\n"
   ]
  },
  {
   "cell_type": "code",
   "execution_count": 27,
   "id": "13a5a860",
   "metadata": {
    "id": "13a5a860"
   },
   "outputs": [
    {
     "name": "stdout",
     "output_type": "stream",
     "text": [
      "Original array\n",
      "[ 1.  0. nan inf]\n",
      "Test element-wise for NaN:\n",
      "[False False  True False]\n"
     ]
    }
   ],
   "source": [
    "a = np.array([1, 0, np.nan, np.inf])\n",
    "print(\"Original array\")\n",
    "print(a)\n",
    "print(\"Test element-wise for NaN:\")\n",
    "print(np.isnan(a))"
   ]
  },
  {
   "cell_type": "markdown",
   "id": "EqmITGsFpbST",
   "metadata": {
    "id": "EqmITGsFpbST"
   },
   "source": [
    "28.Write a NumPy program to test whether none of the elements of a given array is zero.\n",
    "\n",
    "\n",
    "\n",
    "\n",
    "     \n",
    "     \n",
    "\n",
    "\n",
    "\t\n"
   ]
  },
  {
   "cell_type": "code",
   "execution_count": 28,
   "id": "gQH-YcJ1pmax",
   "metadata": {
    "id": "gQH-YcJ1pmax"
   },
   "outputs": [
    {
     "name": "stdout",
     "output_type": "stream",
     "text": [
      "Original array:\n",
      "[1 2 3 4]\n",
      "Test if none of the elements of the said array is zero:\n",
      "True\n",
      "Original array:\n",
      "[0 1 2 3]\n",
      "Test if none of the elements of the said array is zero:\n",
      "False\n"
     ]
    }
   ],
   "source": [
    "x = np.array([1, 2, 3, 4])\n",
    "print(\"Original array:\")\n",
    "print(x)\n",
    "print(\"Test if none of the elements of the said array is zero:\")\n",
    "print(np.all(x))\n",
    "x = np.array([0, 1, 2, 3])\n",
    "print(\"Original array:\")\n",
    "print(x)\n",
    "print(\"Test if none of the elements of the said array is zero:\")\n",
    "print(np.all(x))"
   ]
  },
  {
   "cell_type": "markdown",
   "id": "fN-Jtyh6pnvG",
   "metadata": {
    "id": "fN-Jtyh6pnvG"
   },
   "source": [
    "29. Write a NumPy program to convert a list of numeric value into a one-dimensional NumPy array.\n",
    "\n"
   ]
  },
  {
   "cell_type": "code",
   "execution_count": 29,
   "id": "CMm3UcQkpaj0",
   "metadata": {
    "id": "CMm3UcQkpaj0"
   },
   "outputs": [
    {
     "name": "stdout",
     "output_type": "stream",
     "text": [
      "Original List: [12.23, 13.32, 100, 36.32]\n",
      "One-dimensional NumPy array:  [ 12.23  13.32 100.    36.32]\n"
     ]
    }
   ],
   "source": [
    "l = [12.23, 13.32, 100, 36.32]\n",
    "print(\"Original List:\",l)\n",
    "a = np.array(l)\n",
    "print(\"One-dimensional NumPy array: \",a)"
   ]
  },
  {
   "cell_type": "markdown",
   "id": "-ToIZYgtp7MD",
   "metadata": {
    "id": "-ToIZYgtp7MD"
   },
   "source": [
    "30. Write a NumPy program to create a null vector of size 10 and update sixth value to 11.\n",
    "\n"
   ]
  },
  {
   "cell_type": "code",
   "execution_count": 30,
   "id": "Wh498jNap5jB",
   "metadata": {
    "id": "Wh498jNap5jB"
   },
   "outputs": [
    {
     "name": "stdout",
     "output_type": "stream",
     "text": [
      "[0. 0. 0. 0. 0. 0. 0. 0. 0. 0.]\n",
      "\n",
      " Update sixth value to 11\n",
      "[ 0.  0.  0.  0.  0.  0. 11.  0.  0.  0.]\n"
     ]
    }
   ],
   "source": [
    "x = np.zeros(10)\n",
    "print(x)\n",
    "print(\"\\n Update sixth value to 11\")\n",
    "x[6] = 11\n",
    "print(x)"
   ]
  },
  {
   "cell_type": "markdown",
   "id": "oAepjy3xqD2_",
   "metadata": {
    "id": "oAepjy3xqD2_"
   },
   "source": [
    "31. Write a NumPy program to create a 5x5 array with random values and find the minimum and maximum values.\n",
    "\n"
   ]
  },
  {
   "cell_type": "code",
   "execution_count": 31,
   "id": "VnxY3cj4qIrh",
   "metadata": {
    "id": "VnxY3cj4qIrh"
   },
   "outputs": [
    {
     "name": "stdout",
     "output_type": "stream",
     "text": [
      "Original Array:\n",
      "[[0.18249173 0.17545176 0.53155137 0.53182759 0.63440096]\n",
      " [0.84943179 0.72445532 0.61102351 0.72244338 0.32295891]\n",
      " [0.36178866 0.22826323 0.29371405 0.63097612 0.09210494]\n",
      " [0.43370117 0.43086276 0.4936851  0.42583029 0.31226122]\n",
      " [0.42635131 0.89338916 0.94416002 0.50183668 0.62395295]]\n",
      "\n",
      "\n",
      "Minimum and Maximum Values:\n",
      "0.09210493994507518 0.9441600182038796\n"
     ]
    }
   ],
   "source": [
    "x = np.random.random((5,5))\n",
    "print(\"Original Array:\")\n",
    "print(x) \n",
    "xmin, xmax = x.min(), x.max()\n",
    "print(\"\\n\")\n",
    "print(\"Minimum and Maximum Values:\")\n",
    "print(xmin, xmax)"
   ]
  },
  {
   "cell_type": "markdown",
   "id": "fIWA6M4DqMvj",
   "metadata": {
    "id": "fIWA6M4DqMvj"
   },
   "source": [
    "31. Write a NumPy program to compute the multiplication of two given matrixes.\n",
    "Sample Matrix:\n",
    "[[1, 0], [0, 1]]\n",
    "[[1, 2], [3, 4]]\n",
    "\n"
   ]
  },
  {
   "cell_type": "code",
   "execution_count": 32,
   "id": "al4VbjlxqL6k",
   "metadata": {
    "id": "al4VbjlxqL6k"
   },
   "outputs": [
    {
     "name": "stdout",
     "output_type": "stream",
     "text": [
      "original matrix:\n",
      "[[1, 0], [0, 1]]\n",
      "[[1, 2], [3, 4]]\n",
      "\n",
      "\n",
      "Result of the said matrix multiplication:\n",
      "[[1 2]\n",
      " [3 4]]\n"
     ]
    }
   ],
   "source": [
    "p = [[1, 0], [0, 1]]\n",
    "q = [[1, 2], [3, 4]]\n",
    "print(\"original matrix:\")\n",
    "print(p)\n",
    "print(q)\n",
    "result1 = np.dot(p, q)\n",
    "print(\"\\n\")\n",
    "print(\"Result of the said matrix multiplication:\")\n",
    "print(result1)"
   ]
  },
  {
   "cell_type": "markdown",
   "id": "FXhLCSudqVTI",
   "metadata": {
    "id": "FXhLCSudqVTI"
   },
   "source": [
    "33.Create a two-dimensional array with the flattened input as a diagonal"
   ]
  },
  {
   "cell_type": "code",
   "execution_count": 33,
   "id": "1ciVmwUKqToU",
   "metadata": {
    "id": "1ciVmwUKqToU"
   },
   "outputs": [
    {
     "data": {
      "text/plain": [
       "array([[1, 0, 0, 0],\n",
       "       [0, 2, 0, 0],\n",
       "       [0, 0, 3, 0],\n",
       "       [0, 0, 0, 4]])"
      ]
     },
     "execution_count": 33,
     "metadata": {},
     "output_type": "execute_result"
    }
   ],
   "source": [
    "ar1 = np.diagflat([[1,2], [3,4]])\n",
    "ar1"
   ]
  },
  {
   "cell_type": "markdown",
   "id": "A7KA5BT8qd_-",
   "metadata": {
    "id": "A7KA5BT8qd_-"
   },
   "source": [
    "34. Write a NumPy program to compute the sum of the diagonal element of a given array."
   ]
  },
  {
   "cell_type": "code",
   "execution_count": 34,
   "id": "2FLfT0k1qbBM",
   "metadata": {
    "id": "2FLfT0k1qbBM"
   },
   "outputs": [
    {
     "name": "stdout",
     "output_type": "stream",
     "text": [
      "Original matrix:\n",
      "[[0 1]\n",
      " [2 3]\n",
      " [4 5]]\n",
      "\n",
      "\n",
      "Condition number of the said matrix:\n",
      "3\n"
     ]
    }
   ],
   "source": [
    "m = np.arange(6).reshape(3, 2)\n",
    "print(\"Original matrix:\")\n",
    "print(m)\n",
    "\n",
    "# trace() will return the sum of diagonal elements\n",
    "result =  np.trace(m)\n",
    "print(\"\\n\")\n",
    "print(\"Condition number of the said matrix:\")\n",
    "print(result)"
   ]
  },
  {
   "cell_type": "code",
   "execution_count": 35,
   "id": "582f40c1",
   "metadata": {
    "id": "582f40c1"
   },
   "outputs": [
    {
     "name": "stdout",
     "output_type": "stream",
     "text": [
      "[[[[ 0  1  2]\n",
      "   [ 3  4  5]]\n",
      "\n",
      "  [[ 6  7  8]\n",
      "   [ 9 10 11]]]\n",
      "\n",
      "\n",
      " [[[12 13 14]\n",
      "   [15 16 17]]\n",
      "\n",
      "  [[18 19 20]\n",
      "   [21 22 23]]]]\n",
      "\n",
      "\n"
     ]
    },
    {
     "data": {
      "text/plain": [
       "array([[18, 20, 22],\n",
       "       [24, 26, 28]])"
      ]
     },
     "execution_count": 35,
     "metadata": {},
     "output_type": "execute_result"
    }
   ],
   "source": [
    "a = np.arange(24).reshape((2,2,2,3))\n",
    "print(a)\n",
    "\n",
    "print(\"\\n\")\n",
    "np.trace(a)"
   ]
  },
  {
   "cell_type": "code",
   "execution_count": 36,
   "id": "7da94020",
   "metadata": {
    "id": "7da94020"
   },
   "outputs": [
    {
     "name": "stdout",
     "output_type": "stream",
     "text": [
      "[[[0 1]\n",
      "  [2 3]]\n",
      "\n",
      " [[4 5]\n",
      "  [6 7]]]\n",
      "\n",
      "\n"
     ]
    },
    {
     "data": {
      "text/plain": [
       "array([6, 8])"
      ]
     },
     "execution_count": 36,
     "metadata": {},
     "output_type": "execute_result"
    }
   ],
   "source": [
    "a = np.arange(8).reshape((2,2,2))\n",
    "print(a)\n",
    "print(\"\\n\")\n",
    "np.trace(a)"
   ]
  },
  {
   "cell_type": "markdown",
   "id": "24ca6482",
   "metadata": {
    "id": "24ca6482"
   },
   "source": [
    "35. Use of around() function: returns a decimal value rounded to a desired position of the decimal"
   ]
  },
  {
   "cell_type": "code",
   "execution_count": 37,
   "id": "55b32e5f",
   "metadata": {
    "id": "55b32e5f",
    "outputId": "0f7fb90c-9292-4b6d-c613-999b586029da"
   },
   "outputs": [
    {
     "name": "stdout",
     "output_type": "stream",
     "text": [
      "printing the original array values: [ 12.202   90.2312 123.02    23.202 ]\n",
      "\n",
      "\n",
      "Array values rounded off to 2 decimal position [ 12.2   90.23 123.02  23.2 ]\n",
      "Array values rounded off to -1 decimal position [ 10.  90. 120.  20.]\n"
     ]
    }
   ],
   "source": [
    "arr = np.array([12.202, 90.23120, 123.020, 23.202]) \n",
    "print(\"printing the original array values:\",end = \" \")  \n",
    "print(arr)  \n",
    "print(\"\\n\")\n",
    "print(\"Array values rounded off to 2 decimal position\",np.around(arr, 2))  \n",
    "print(\"Array values rounded off to -1 decimal position\",np.around(arr, -1))  "
   ]
  },
  {
   "cell_type": "code",
   "execution_count": null,
   "id": "54f32cf6",
   "metadata": {
    "id": "54f32cf6"
   },
   "outputs": [],
   "source": []
  }
 ],
 "metadata": {
  "colab": {
   "collapsed_sections": [],
   "name": "Numpy Practice Questions and Solution (1).ipynb",
   "provenance": []
  },
  "kernelspec": {
   "display_name": "Python 3 (ipykernel)",
   "language": "python",
   "name": "python3"
  },
  "language_info": {
   "codemirror_mode": {
    "name": "ipython",
    "version": 3
   },
   "file_extension": ".py",
   "mimetype": "text/x-python",
   "name": "python",
   "nbconvert_exporter": "python",
   "pygments_lexer": "ipython3",
   "version": "3.11.5"
  }
 },
 "nbformat": 4,
 "nbformat_minor": 5
}
